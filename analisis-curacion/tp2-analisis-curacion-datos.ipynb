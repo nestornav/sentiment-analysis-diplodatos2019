{
 "cells": [
  {
   "cell_type": "code",
   "execution_count": 4,
   "metadata": {},
   "outputs": [],
   "source": [
    "%matplotlib inline\n",
    "from matplotlib import pyplot as plt\n",
    "import pandas as pd\n",
    "import numpy as np\n",
    "\n",
    "# Realicen en esta celda los imports de librerías que necesiten"
   ]
  },
  {
   "cell_type": "code",
   "execution_count": null,
   "metadata": {},
   "outputs": [],
   "source": [
    "# Importamos el dataset. Ayornen el path del archivo al que ustedes tengan. Así como el nombre del dataset.\n",
    "# Como el dataset fue creado usando como delimitador un tab, si no lo definimos a la hora de importarlo, se va romper.\n",
    "df = pd.read_csv('reviews_yelp_nn.csv', sep='\\t')"
   ]
  },
  {
   "cell_type": "markdown",
   "metadata": {},
   "source": [
    "### Descripción de las features\n",
    "\n",
    "- \"review_id\": string, id de la review.\n",
    "\n",
    "- \"user_id\": string, id para poder cruzar con otros dataset.\n",
    "\n",
    "- \"business_id\": string, id para poder cruzar con otros dataset.\n",
    "\n",
    "- \"stars\": int, el rating recibido.\n",
    "\n",
    "- \"date\": fecha formateada como YYYY-MM-DD.\n",
    "\n",
    "- \"text\": string, la review misma del lugar.\n",
    "\n",
    "- \"useful\": int, número de votos \"useful\" recibidos.\n",
    "\n",
    "- \"funny\": int, número de votos \"funny\" recibidos.\n",
    "\n",
    "- \"cool\": int, número de votos \"cool\" recibidos."
   ]
  },
  {
   "cell_type": "code",
   "execution_count": null,
   "metadata": {},
   "outputs": [],
   "source": []
  }
 ],
 "metadata": {
  "kernelspec": {
   "display_name": "Python 3",
   "language": "python",
   "name": "python3"
  },
  "language_info": {
   "codemirror_mode": {
    "name": "ipython",
    "version": 3
   },
   "file_extension": ".py",
   "mimetype": "text/x-python",
   "name": "python",
   "nbconvert_exporter": "python",
   "pygments_lexer": "ipython3",
   "version": "3.6.5"
  }
 },
 "nbformat": 4,
 "nbformat_minor": 2
}
